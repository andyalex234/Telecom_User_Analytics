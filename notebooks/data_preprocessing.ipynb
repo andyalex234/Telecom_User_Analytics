{
 "cells": [
  {
   "cell_type": "code",
   "execution_count": 1,
   "metadata": {},
   "outputs": [],
   "source": [
    "\n",
    "#imports\n",
    "import os\n",
    "import sys\n",
    "import pandas as pd\n",
    "import numpy as np"
   ]
  },
  {
   "cell_type": "code",
   "execution_count": 2,
   "metadata": {},
   "outputs": [],
   "source": [
    "\n",
    "sys.path.append('.')\n",
    "sys.path.append('..')\n",
    "sys.path.append('../scripts')\n",
    "\n",
    "from clean_dataframe import Clean_DataFrame"
   ]
  },
  {
   "cell_type": "code",
   "execution_count": 3,
   "metadata": {},
   "outputs": [],
   "source": [
    "# read the data\n",
    "df = pd.read_excel('../data/Week1_challenge_data_source.xlsx')"
   ]
  },
  {
   "cell_type": "markdown",
   "metadata": {},
   "source": [
    "## Data before cleaning"
   ]
  },
  {
   "cell_type": "code",
   "execution_count": 4,
   "metadata": {},
   "outputs": [
    {
     "data": {
      "text/html": [
       "<div>\n",
       "<style scoped>\n",
       "    .dataframe tbody tr th:only-of-type {\n",
       "        vertical-align: middle;\n",
       "    }\n",
       "\n",
       "    .dataframe tbody tr th {\n",
       "        vertical-align: top;\n",
       "    }\n",
       "\n",
       "    .dataframe thead th {\n",
       "        text-align: right;\n",
       "    }\n",
       "</style>\n",
       "<table border=\"1\" class=\"dataframe\">\n",
       "  <thead>\n",
       "    <tr style=\"text-align: right;\">\n",
       "      <th></th>\n",
       "      <th>Bearer Id</th>\n",
       "      <th>Start</th>\n",
       "      <th>Start ms</th>\n",
       "      <th>End</th>\n",
       "      <th>End ms</th>\n",
       "      <th>Dur. (ms)</th>\n",
       "      <th>IMSI</th>\n",
       "      <th>MSISDN/Number</th>\n",
       "      <th>IMEI</th>\n",
       "      <th>Last Location Name</th>\n",
       "      <th>...</th>\n",
       "      <th>Youtube DL (Bytes)</th>\n",
       "      <th>Youtube UL (Bytes)</th>\n",
       "      <th>Netflix DL (Bytes)</th>\n",
       "      <th>Netflix UL (Bytes)</th>\n",
       "      <th>Gaming DL (Bytes)</th>\n",
       "      <th>Gaming UL (Bytes)</th>\n",
       "      <th>Other DL (Bytes)</th>\n",
       "      <th>Other UL (Bytes)</th>\n",
       "      <th>Total UL (Bytes)</th>\n",
       "      <th>Total DL (Bytes)</th>\n",
       "    </tr>\n",
       "  </thead>\n",
       "  <tbody>\n",
       "    <tr>\n",
       "      <th>0</th>\n",
       "      <td>1.311448e+19</td>\n",
       "      <td>2019-04-04 12:01:18</td>\n",
       "      <td>770.0</td>\n",
       "      <td>2019-04-25 14:35:31</td>\n",
       "      <td>662.0</td>\n",
       "      <td>1823652.0</td>\n",
       "      <td>2.082014e+14</td>\n",
       "      <td>3.366496e+10</td>\n",
       "      <td>3.552121e+13</td>\n",
       "      <td>9164566995485190</td>\n",
       "      <td>...</td>\n",
       "      <td>15854611.0</td>\n",
       "      <td>2501332.0</td>\n",
       "      <td>8198936.0</td>\n",
       "      <td>9656251.0</td>\n",
       "      <td>278082303.0</td>\n",
       "      <td>14344150.0</td>\n",
       "      <td>171744450.0</td>\n",
       "      <td>8814393.0</td>\n",
       "      <td>36749741.0</td>\n",
       "      <td>308879636.0</td>\n",
       "    </tr>\n",
       "    <tr>\n",
       "      <th>1</th>\n",
       "      <td>1.311448e+19</td>\n",
       "      <td>2019-04-09 13:04:04</td>\n",
       "      <td>235.0</td>\n",
       "      <td>2019-04-25 08:15:48</td>\n",
       "      <td>606.0</td>\n",
       "      <td>1365104.0</td>\n",
       "      <td>2.082019e+14</td>\n",
       "      <td>3.368185e+10</td>\n",
       "      <td>3.579401e+13</td>\n",
       "      <td>L77566A</td>\n",
       "      <td>...</td>\n",
       "      <td>20247395.0</td>\n",
       "      <td>19111729.0</td>\n",
       "      <td>18338413.0</td>\n",
       "      <td>17227132.0</td>\n",
       "      <td>608750074.0</td>\n",
       "      <td>1170709.0</td>\n",
       "      <td>526904238.0</td>\n",
       "      <td>15055145.0</td>\n",
       "      <td>53800391.0</td>\n",
       "      <td>653384965.0</td>\n",
       "    </tr>\n",
       "    <tr>\n",
       "      <th>2</th>\n",
       "      <td>1.311448e+19</td>\n",
       "      <td>2019-04-09 17:42:11</td>\n",
       "      <td>1.0</td>\n",
       "      <td>2019-04-25 11:58:13</td>\n",
       "      <td>652.0</td>\n",
       "      <td>1361762.0</td>\n",
       "      <td>2.082003e+14</td>\n",
       "      <td>3.376063e+10</td>\n",
       "      <td>3.528151e+13</td>\n",
       "      <td>D42335A</td>\n",
       "      <td>...</td>\n",
       "      <td>19725661.0</td>\n",
       "      <td>14699576.0</td>\n",
       "      <td>17587794.0</td>\n",
       "      <td>6163408.0</td>\n",
       "      <td>229584621.0</td>\n",
       "      <td>395630.0</td>\n",
       "      <td>410692588.0</td>\n",
       "      <td>4215763.0</td>\n",
       "      <td>27883638.0</td>\n",
       "      <td>279807335.0</td>\n",
       "    </tr>\n",
       "    <tr>\n",
       "      <th>3</th>\n",
       "      <td>1.311448e+19</td>\n",
       "      <td>2019-04-10 00:31:25</td>\n",
       "      <td>486.0</td>\n",
       "      <td>2019-04-25 07:36:35</td>\n",
       "      <td>171.0</td>\n",
       "      <td>1321509.0</td>\n",
       "      <td>2.082014e+14</td>\n",
       "      <td>3.375034e+10</td>\n",
       "      <td>3.535661e+13</td>\n",
       "      <td>T21824A</td>\n",
       "      <td>...</td>\n",
       "      <td>21388122.0</td>\n",
       "      <td>15146643.0</td>\n",
       "      <td>13994646.0</td>\n",
       "      <td>1097942.0</td>\n",
       "      <td>799538153.0</td>\n",
       "      <td>10849722.0</td>\n",
       "      <td>749039933.0</td>\n",
       "      <td>12797283.0</td>\n",
       "      <td>43324218.0</td>\n",
       "      <td>846028530.0</td>\n",
       "    </tr>\n",
       "    <tr>\n",
       "      <th>4</th>\n",
       "      <td>1.311448e+19</td>\n",
       "      <td>2019-04-12 20:10:23</td>\n",
       "      <td>565.0</td>\n",
       "      <td>2019-04-25 10:40:32</td>\n",
       "      <td>954.0</td>\n",
       "      <td>1089009.0</td>\n",
       "      <td>2.082014e+14</td>\n",
       "      <td>3.369980e+10</td>\n",
       "      <td>3.540701e+13</td>\n",
       "      <td>D88865A</td>\n",
       "      <td>...</td>\n",
       "      <td>15259380.0</td>\n",
       "      <td>18962873.0</td>\n",
       "      <td>17124581.0</td>\n",
       "      <td>415218.0</td>\n",
       "      <td>527707248.0</td>\n",
       "      <td>3529801.0</td>\n",
       "      <td>550709500.0</td>\n",
       "      <td>13910322.0</td>\n",
       "      <td>38542814.0</td>\n",
       "      <td>569138589.0</td>\n",
       "    </tr>\n",
       "  </tbody>\n",
       "</table>\n",
       "<p>5 rows × 55 columns</p>\n",
       "</div>"
      ],
      "text/plain": [
       "      Bearer Id               Start  Start ms                 End  End ms  \\\n",
       "0  1.311448e+19 2019-04-04 12:01:18     770.0 2019-04-25 14:35:31   662.0   \n",
       "1  1.311448e+19 2019-04-09 13:04:04     235.0 2019-04-25 08:15:48   606.0   \n",
       "2  1.311448e+19 2019-04-09 17:42:11       1.0 2019-04-25 11:58:13   652.0   \n",
       "3  1.311448e+19 2019-04-10 00:31:25     486.0 2019-04-25 07:36:35   171.0   \n",
       "4  1.311448e+19 2019-04-12 20:10:23     565.0 2019-04-25 10:40:32   954.0   \n",
       "\n",
       "   Dur. (ms)          IMSI  MSISDN/Number          IMEI Last Location Name  \\\n",
       "0  1823652.0  2.082014e+14   3.366496e+10  3.552121e+13   9164566995485190   \n",
       "1  1365104.0  2.082019e+14   3.368185e+10  3.579401e+13            L77566A   \n",
       "2  1361762.0  2.082003e+14   3.376063e+10  3.528151e+13            D42335A   \n",
       "3  1321509.0  2.082014e+14   3.375034e+10  3.535661e+13            T21824A   \n",
       "4  1089009.0  2.082014e+14   3.369980e+10  3.540701e+13            D88865A   \n",
       "\n",
       "   ...  Youtube DL (Bytes)  Youtube UL (Bytes)  Netflix DL (Bytes)  \\\n",
       "0  ...          15854611.0           2501332.0           8198936.0   \n",
       "1  ...          20247395.0          19111729.0          18338413.0   \n",
       "2  ...          19725661.0          14699576.0          17587794.0   \n",
       "3  ...          21388122.0          15146643.0          13994646.0   \n",
       "4  ...          15259380.0          18962873.0          17124581.0   \n",
       "\n",
       "   Netflix UL (Bytes)  Gaming DL (Bytes)  Gaming UL (Bytes)  Other DL (Bytes)  \\\n",
       "0           9656251.0        278082303.0         14344150.0       171744450.0   \n",
       "1          17227132.0        608750074.0          1170709.0       526904238.0   \n",
       "2           6163408.0        229584621.0           395630.0       410692588.0   \n",
       "3           1097942.0        799538153.0         10849722.0       749039933.0   \n",
       "4            415218.0        527707248.0          3529801.0       550709500.0   \n",
       "\n",
       "   Other UL (Bytes)  Total UL (Bytes)  Total DL (Bytes)  \n",
       "0         8814393.0        36749741.0       308879636.0  \n",
       "1        15055145.0        53800391.0       653384965.0  \n",
       "2         4215763.0        27883638.0       279807335.0  \n",
       "3        12797283.0        43324218.0       846028530.0  \n",
       "4        13910322.0        38542814.0       569138589.0  \n",
       "\n",
       "[5 rows x 55 columns]"
      ]
     },
     "execution_count": 4,
     "metadata": {},
     "output_type": "execute_result"
    }
   ],
   "source": [
    "df.head()"
   ]
  },
  {
   "cell_type": "code",
   "execution_count": 5,
   "metadata": {},
   "outputs": [
    {
     "data": {
      "text/plain": [
       "False    150001\n",
       "dtype: int64"
      ]
     },
     "execution_count": 5,
     "metadata": {},
     "output_type": "execute_result"
    }
   ],
   "source": [
    "# cout of duplicates\n",
    "df.duplicated().value_counts()"
   ]
  },
  {
   "cell_type": "markdown",
   "metadata": {},
   "source": [
    "This shows us there are no duplicate rows in the dataset"
   ]
  },
  {
   "cell_type": "code",
   "execution_count": 6,
   "metadata": {},
   "outputs": [
    {
     "name": "stdout",
     "output_type": "stream",
     "text": [
      "initializing dataframe\n"
     ]
    },
    {
     "data": {
      "text/html": [
       "<div>\n",
       "<style scoped>\n",
       "    .dataframe tbody tr th:only-of-type {\n",
       "        vertical-align: middle;\n",
       "    }\n",
       "\n",
       "    .dataframe tbody tr th {\n",
       "        vertical-align: top;\n",
       "    }\n",
       "\n",
       "    .dataframe thead th {\n",
       "        text-align: right;\n",
       "    }\n",
       "</style>\n",
       "<table border=\"1\" class=\"dataframe\">\n",
       "  <thead>\n",
       "    <tr style=\"text-align: right;\">\n",
       "      <th></th>\n",
       "      <th>Bearer Id</th>\n",
       "      <th>Start</th>\n",
       "      <th>Start ms</th>\n",
       "      <th>End</th>\n",
       "      <th>End ms</th>\n",
       "      <th>Dur. (ms)</th>\n",
       "      <th>IMSI</th>\n",
       "      <th>MSISDN/Number</th>\n",
       "      <th>IMEI</th>\n",
       "      <th>Last Location Name</th>\n",
       "      <th>...</th>\n",
       "      <th>Youtube DL (Bytes)</th>\n",
       "      <th>Youtube UL (Bytes)</th>\n",
       "      <th>Netflix DL (Bytes)</th>\n",
       "      <th>Netflix UL (Bytes)</th>\n",
       "      <th>Gaming DL (Bytes)</th>\n",
       "      <th>Gaming UL (Bytes)</th>\n",
       "      <th>Other DL (Bytes)</th>\n",
       "      <th>Other UL (Bytes)</th>\n",
       "      <th>Total UL (Bytes)</th>\n",
       "      <th>Total DL (Bytes)</th>\n",
       "    </tr>\n",
       "  </thead>\n",
       "  <tbody>\n",
       "    <tr>\n",
       "      <th>0</th>\n",
       "      <td>1.311448e+19</td>\n",
       "      <td>2019-04-04 12:01:18</td>\n",
       "      <td>770.0</td>\n",
       "      <td>2019-04-25 14:35:31</td>\n",
       "      <td>662.0</td>\n",
       "      <td>1823652.0</td>\n",
       "      <td>2.082014e+14</td>\n",
       "      <td>3.366496e+10</td>\n",
       "      <td>3.552121e+13</td>\n",
       "      <td>9164566995485190</td>\n",
       "      <td>...</td>\n",
       "      <td>1.585461e+07</td>\n",
       "      <td>2.501332e+06</td>\n",
       "      <td>8.198936e+06</td>\n",
       "      <td>9.656251e+06</td>\n",
       "      <td>2.780823e+08</td>\n",
       "      <td>1.434415e+07</td>\n",
       "      <td>1.717444e+08</td>\n",
       "      <td>8.814393e+06</td>\n",
       "      <td>36749741.0</td>\n",
       "      <td>308879636.0</td>\n",
       "    </tr>\n",
       "    <tr>\n",
       "      <th>1</th>\n",
       "      <td>1.311448e+19</td>\n",
       "      <td>2019-04-09 13:04:04</td>\n",
       "      <td>235.0</td>\n",
       "      <td>2019-04-25 08:15:48</td>\n",
       "      <td>606.0</td>\n",
       "      <td>1365104.0</td>\n",
       "      <td>2.082019e+14</td>\n",
       "      <td>3.368185e+10</td>\n",
       "      <td>3.579401e+13</td>\n",
       "      <td>L77566A</td>\n",
       "      <td>...</td>\n",
       "      <td>2.024740e+07</td>\n",
       "      <td>1.911173e+07</td>\n",
       "      <td>1.833841e+07</td>\n",
       "      <td>1.722713e+07</td>\n",
       "      <td>6.087501e+08</td>\n",
       "      <td>1.170709e+06</td>\n",
       "      <td>5.269042e+08</td>\n",
       "      <td>1.505514e+07</td>\n",
       "      <td>53800391.0</td>\n",
       "      <td>653384965.0</td>\n",
       "    </tr>\n",
       "    <tr>\n",
       "      <th>2</th>\n",
       "      <td>1.311448e+19</td>\n",
       "      <td>2019-04-09 17:42:11</td>\n",
       "      <td>1.0</td>\n",
       "      <td>2019-04-25 11:58:13</td>\n",
       "      <td>652.0</td>\n",
       "      <td>1361762.0</td>\n",
       "      <td>2.082003e+14</td>\n",
       "      <td>3.376063e+10</td>\n",
       "      <td>3.528151e+13</td>\n",
       "      <td>D42335A</td>\n",
       "      <td>...</td>\n",
       "      <td>1.972566e+07</td>\n",
       "      <td>1.469958e+07</td>\n",
       "      <td>1.758779e+07</td>\n",
       "      <td>6.163408e+06</td>\n",
       "      <td>2.295846e+08</td>\n",
       "      <td>3.956300e+05</td>\n",
       "      <td>4.106926e+08</td>\n",
       "      <td>4.215763e+06</td>\n",
       "      <td>27883638.0</td>\n",
       "      <td>279807335.0</td>\n",
       "    </tr>\n",
       "    <tr>\n",
       "      <th>3</th>\n",
       "      <td>1.311448e+19</td>\n",
       "      <td>2019-04-10 00:31:25</td>\n",
       "      <td>486.0</td>\n",
       "      <td>2019-04-25 07:36:35</td>\n",
       "      <td>171.0</td>\n",
       "      <td>1321509.0</td>\n",
       "      <td>2.082014e+14</td>\n",
       "      <td>3.375034e+10</td>\n",
       "      <td>3.535661e+13</td>\n",
       "      <td>T21824A</td>\n",
       "      <td>...</td>\n",
       "      <td>2.138812e+07</td>\n",
       "      <td>1.514664e+07</td>\n",
       "      <td>1.399465e+07</td>\n",
       "      <td>1.097942e+06</td>\n",
       "      <td>7.995382e+08</td>\n",
       "      <td>1.084972e+07</td>\n",
       "      <td>7.490399e+08</td>\n",
       "      <td>1.279728e+07</td>\n",
       "      <td>43324218.0</td>\n",
       "      <td>846028530.0</td>\n",
       "    </tr>\n",
       "    <tr>\n",
       "      <th>4</th>\n",
       "      <td>1.311448e+19</td>\n",
       "      <td>2019-04-12 20:10:23</td>\n",
       "      <td>565.0</td>\n",
       "      <td>2019-04-25 10:40:32</td>\n",
       "      <td>954.0</td>\n",
       "      <td>1089009.0</td>\n",
       "      <td>2.082014e+14</td>\n",
       "      <td>3.369980e+10</td>\n",
       "      <td>3.540701e+13</td>\n",
       "      <td>D88865A</td>\n",
       "      <td>...</td>\n",
       "      <td>1.525938e+07</td>\n",
       "      <td>1.896287e+07</td>\n",
       "      <td>1.712458e+07</td>\n",
       "      <td>4.152180e+05</td>\n",
       "      <td>5.277072e+08</td>\n",
       "      <td>3.529801e+06</td>\n",
       "      <td>5.507095e+08</td>\n",
       "      <td>1.391032e+07</td>\n",
       "      <td>38542814.0</td>\n",
       "      <td>569138589.0</td>\n",
       "    </tr>\n",
       "    <tr>\n",
       "      <th>...</th>\n",
       "      <td>...</td>\n",
       "      <td>...</td>\n",
       "      <td>...</td>\n",
       "      <td>...</td>\n",
       "      <td>...</td>\n",
       "      <td>...</td>\n",
       "      <td>...</td>\n",
       "      <td>...</td>\n",
       "      <td>...</td>\n",
       "      <td>...</td>\n",
       "      <td>...</td>\n",
       "      <td>...</td>\n",
       "      <td>...</td>\n",
       "      <td>...</td>\n",
       "      <td>...</td>\n",
       "      <td>...</td>\n",
       "      <td>...</td>\n",
       "      <td>...</td>\n",
       "      <td>...</td>\n",
       "      <td>...</td>\n",
       "      <td>...</td>\n",
       "    </tr>\n",
       "    <tr>\n",
       "      <th>149996</th>\n",
       "      <td>7.277826e+18</td>\n",
       "      <td>2019-04-29 07:28:42</td>\n",
       "      <td>451.0</td>\n",
       "      <td>2019-04-30 06:02:33</td>\n",
       "      <td>214.0</td>\n",
       "      <td>81230.0</td>\n",
       "      <td>2.082022e+14</td>\n",
       "      <td>3.365069e+10</td>\n",
       "      <td>3.548311e+13</td>\n",
       "      <td>D20434A</td>\n",
       "      <td>...</td>\n",
       "      <td>1.619167e+07</td>\n",
       "      <td>1.176343e+07</td>\n",
       "      <td>1.788370e+07</td>\n",
       "      <td>1.967816e+07</td>\n",
       "      <td>5.266097e+08</td>\n",
       "      <td>9.197207e+06</td>\n",
       "      <td>3.264510e+06</td>\n",
       "      <td>1.348742e+07</td>\n",
       "      <td>57628851.0</td>\n",
       "      <td>574175259.0</td>\n",
       "    </tr>\n",
       "    <tr>\n",
       "      <th>149997</th>\n",
       "      <td>7.349883e+18</td>\n",
       "      <td>2019-04-29 07:28:42</td>\n",
       "      <td>483.0</td>\n",
       "      <td>2019-04-30 10:41:33</td>\n",
       "      <td>187.0</td>\n",
       "      <td>97970.0</td>\n",
       "      <td>2.082019e+14</td>\n",
       "      <td>3.366345e+10</td>\n",
       "      <td>3.566051e+13</td>\n",
       "      <td>D10223C</td>\n",
       "      <td>...</td>\n",
       "      <td>1.387723e+07</td>\n",
       "      <td>8.288284e+06</td>\n",
       "      <td>1.935015e+07</td>\n",
       "      <td>2.129315e+07</td>\n",
       "      <td>6.268931e+08</td>\n",
       "      <td>4.735033e+06</td>\n",
       "      <td>7.121804e+08</td>\n",
       "      <td>2.457758e+06</td>\n",
       "      <td>39135081.0</td>\n",
       "      <td>666648844.0</td>\n",
       "    </tr>\n",
       "    <tr>\n",
       "      <th>149998</th>\n",
       "      <td>1.311448e+19</td>\n",
       "      <td>2019-04-29 07:28:43</td>\n",
       "      <td>283.0</td>\n",
       "      <td>2019-04-30 10:46:12</td>\n",
       "      <td>810.0</td>\n",
       "      <td>98249.0</td>\n",
       "      <td>2.082017e+14</td>\n",
       "      <td>3.362189e+10</td>\n",
       "      <td>3.572121e+13</td>\n",
       "      <td>T51102A</td>\n",
       "      <td>...</td>\n",
       "      <td>2.266051e+07</td>\n",
       "      <td>1.855903e+06</td>\n",
       "      <td>9.963942e+06</td>\n",
       "      <td>5.065760e+06</td>\n",
       "      <td>5.535395e+08</td>\n",
       "      <td>1.339432e+07</td>\n",
       "      <td>1.211009e+08</td>\n",
       "      <td>1.131473e+07</td>\n",
       "      <td>34912224.0</td>\n",
       "      <td>592786405.0</td>\n",
       "    </tr>\n",
       "    <tr>\n",
       "      <th>149999</th>\n",
       "      <td>1.311448e+19</td>\n",
       "      <td>2019-04-29 07:28:43</td>\n",
       "      <td>696.0</td>\n",
       "      <td>2019-04-30 10:40:34</td>\n",
       "      <td>327.0</td>\n",
       "      <td>97910.0</td>\n",
       "      <td>2.082021e+14</td>\n",
       "      <td>3.361962e+10</td>\n",
       "      <td>8.618620e+13</td>\n",
       "      <td>L88342B</td>\n",
       "      <td>...</td>\n",
       "      <td>8.817106e+06</td>\n",
       "      <td>8.305402e+06</td>\n",
       "      <td>3.322253e+06</td>\n",
       "      <td>1.317259e+07</td>\n",
       "      <td>3.525370e+08</td>\n",
       "      <td>2.529475e+06</td>\n",
       "      <td>8.147131e+08</td>\n",
       "      <td>1.406930e+06</td>\n",
       "      <td>29626096.0</td>\n",
       "      <td>371895920.0</td>\n",
       "    </tr>\n",
       "    <tr>\n",
       "      <th>150000</th>\n",
       "      <td>NaN</td>\n",
       "      <td>NaT</td>\n",
       "      <td>NaN</td>\n",
       "      <td>NaT</td>\n",
       "      <td>NaN</td>\n",
       "      <td>NaN</td>\n",
       "      <td>NaN</td>\n",
       "      <td>NaN</td>\n",
       "      <td>NaN</td>\n",
       "      <td>NaN</td>\n",
       "      <td>...</td>\n",
       "      <td>1.163407e+07</td>\n",
       "      <td>1.100941e+07</td>\n",
       "      <td>1.162685e+07</td>\n",
       "      <td>1.100175e+07</td>\n",
       "      <td>4.220447e+08</td>\n",
       "      <td>8.288398e+06</td>\n",
       "      <td>4.211005e+08</td>\n",
       "      <td>8.264799e+06</td>\n",
       "      <td>NaN</td>\n",
       "      <td>NaN</td>\n",
       "    </tr>\n",
       "  </tbody>\n",
       "</table>\n",
       "<p>150001 rows × 55 columns</p>\n",
       "</div>"
      ],
      "text/plain": [
       "           Bearer Id               Start  Start ms                 End  \\\n",
       "0       1.311448e+19 2019-04-04 12:01:18     770.0 2019-04-25 14:35:31   \n",
       "1       1.311448e+19 2019-04-09 13:04:04     235.0 2019-04-25 08:15:48   \n",
       "2       1.311448e+19 2019-04-09 17:42:11       1.0 2019-04-25 11:58:13   \n",
       "3       1.311448e+19 2019-04-10 00:31:25     486.0 2019-04-25 07:36:35   \n",
       "4       1.311448e+19 2019-04-12 20:10:23     565.0 2019-04-25 10:40:32   \n",
       "...              ...                 ...       ...                 ...   \n",
       "149996  7.277826e+18 2019-04-29 07:28:42     451.0 2019-04-30 06:02:33   \n",
       "149997  7.349883e+18 2019-04-29 07:28:42     483.0 2019-04-30 10:41:33   \n",
       "149998  1.311448e+19 2019-04-29 07:28:43     283.0 2019-04-30 10:46:12   \n",
       "149999  1.311448e+19 2019-04-29 07:28:43     696.0 2019-04-30 10:40:34   \n",
       "150000           NaN                 NaT       NaN                 NaT   \n",
       "\n",
       "        End ms  Dur. (ms)          IMSI  MSISDN/Number          IMEI  \\\n",
       "0        662.0  1823652.0  2.082014e+14   3.366496e+10  3.552121e+13   \n",
       "1        606.0  1365104.0  2.082019e+14   3.368185e+10  3.579401e+13   \n",
       "2        652.0  1361762.0  2.082003e+14   3.376063e+10  3.528151e+13   \n",
       "3        171.0  1321509.0  2.082014e+14   3.375034e+10  3.535661e+13   \n",
       "4        954.0  1089009.0  2.082014e+14   3.369980e+10  3.540701e+13   \n",
       "...        ...        ...           ...            ...           ...   \n",
       "149996   214.0    81230.0  2.082022e+14   3.365069e+10  3.548311e+13   \n",
       "149997   187.0    97970.0  2.082019e+14   3.366345e+10  3.566051e+13   \n",
       "149998   810.0    98249.0  2.082017e+14   3.362189e+10  3.572121e+13   \n",
       "149999   327.0    97910.0  2.082021e+14   3.361962e+10  8.618620e+13   \n",
       "150000     NaN        NaN           NaN            NaN           NaN   \n",
       "\n",
       "       Last Location Name  ...  Youtube DL (Bytes)  Youtube UL (Bytes)  \\\n",
       "0        9164566995485190  ...        1.585461e+07        2.501332e+06   \n",
       "1                 L77566A  ...        2.024740e+07        1.911173e+07   \n",
       "2                 D42335A  ...        1.972566e+07        1.469958e+07   \n",
       "3                 T21824A  ...        2.138812e+07        1.514664e+07   \n",
       "4                 D88865A  ...        1.525938e+07        1.896287e+07   \n",
       "...                   ...  ...                 ...                 ...   \n",
       "149996            D20434A  ...        1.619167e+07        1.176343e+07   \n",
       "149997            D10223C  ...        1.387723e+07        8.288284e+06   \n",
       "149998            T51102A  ...        2.266051e+07        1.855903e+06   \n",
       "149999            L88342B  ...        8.817106e+06        8.305402e+06   \n",
       "150000                NaN  ...        1.163407e+07        1.100941e+07   \n",
       "\n",
       "        Netflix DL (Bytes)  Netflix UL (Bytes)  Gaming DL (Bytes)  \\\n",
       "0             8.198936e+06        9.656251e+06       2.780823e+08   \n",
       "1             1.833841e+07        1.722713e+07       6.087501e+08   \n",
       "2             1.758779e+07        6.163408e+06       2.295846e+08   \n",
       "3             1.399465e+07        1.097942e+06       7.995382e+08   \n",
       "4             1.712458e+07        4.152180e+05       5.277072e+08   \n",
       "...                    ...                 ...                ...   \n",
       "149996        1.788370e+07        1.967816e+07       5.266097e+08   \n",
       "149997        1.935015e+07        2.129315e+07       6.268931e+08   \n",
       "149998        9.963942e+06        5.065760e+06       5.535395e+08   \n",
       "149999        3.322253e+06        1.317259e+07       3.525370e+08   \n",
       "150000        1.162685e+07        1.100175e+07       4.220447e+08   \n",
       "\n",
       "        Gaming UL (Bytes)  Other DL (Bytes)  Other UL (Bytes)  \\\n",
       "0            1.434415e+07      1.717444e+08      8.814393e+06   \n",
       "1            1.170709e+06      5.269042e+08      1.505514e+07   \n",
       "2            3.956300e+05      4.106926e+08      4.215763e+06   \n",
       "3            1.084972e+07      7.490399e+08      1.279728e+07   \n",
       "4            3.529801e+06      5.507095e+08      1.391032e+07   \n",
       "...                   ...               ...               ...   \n",
       "149996       9.197207e+06      3.264510e+06      1.348742e+07   \n",
       "149997       4.735033e+06      7.121804e+08      2.457758e+06   \n",
       "149998       1.339432e+07      1.211009e+08      1.131473e+07   \n",
       "149999       2.529475e+06      8.147131e+08      1.406930e+06   \n",
       "150000       8.288398e+06      4.211005e+08      8.264799e+06   \n",
       "\n",
       "        Total UL (Bytes)  Total DL (Bytes)  \n",
       "0             36749741.0       308879636.0  \n",
       "1             53800391.0       653384965.0  \n",
       "2             27883638.0       279807335.0  \n",
       "3             43324218.0       846028530.0  \n",
       "4             38542814.0       569138589.0  \n",
       "...                  ...               ...  \n",
       "149996        57628851.0       574175259.0  \n",
       "149997        39135081.0       666648844.0  \n",
       "149998        34912224.0       592786405.0  \n",
       "149999        29626096.0       371895920.0  \n",
       "150000               NaN               NaN  \n",
       "\n",
       "[150001 rows x 55 columns]"
      ]
     },
     "execution_count": 6,
     "metadata": {},
     "output_type": "execute_result"
    }
   ],
   "source": [
    "cleaner = Clean_DataFrame(df.copy())\n",
    "cleaner.df"
   ]
  },
  {
   "cell_type": "markdown",
   "metadata": {},
   "source": [
    "## Handling Missing Values"
   ]
  },
  {
   "cell_type": "code",
   "execution_count": 7,
   "metadata": {},
   "outputs": [
    {
     "name": "stdout",
     "output_type": "stream",
     "text": [
      "The telecom dataset contains 12.5 % missing values.\n"
     ]
    }
   ],
   "source": [
    "# The % of missing values in the dataset\n",
    "cleaner.precent_missing(df)"
   ]
  },
  {
   "cell_type": "code",
   "execution_count": 8,
   "metadata": {},
   "outputs": [
    {
     "data": {
      "text/plain": [
       "Nb of sec with 37500B < Vol UL              130254\n",
       "Nb of sec with 6250B < Vol UL < 37500B      111843\n",
       "Nb of sec with 125000B < Vol DL              97538\n",
       "TCP UL Retrans. Vol (Bytes)                  96649\n",
       "Nb of sec with 31250B < Vol DL < 125000B     93586\n",
       "Nb of sec with 1250B < Vol UL < 6250B        92894\n",
       "Nb of sec with 6250B < Vol DL < 31250B       88317\n",
       "TCP DL Retrans. Vol (Bytes)                  88146\n",
       "HTTP UL (Bytes)                              81810\n",
       "HTTP DL (Bytes)                              81474\n",
       "Avg RTT DL (ms)                              27829\n",
       "Avg RTT UL (ms)                              27812\n",
       "Last Location Name                            1153\n",
       "MSISDN/Number                                 1066\n",
       "Bearer Id                                      991\n",
       "Nb of sec with Vol UL < 1250B                  793\n",
       "UL TP < 10 Kbps (%)                            792\n",
       "10 Kbps < UL TP < 50 Kbps (%)                  792\n",
       "50 Kbps < UL TP < 300 Kbps (%)                 792\n",
       "UL TP > 300 Kbps (%)                           792\n",
       "Nb of sec with Vol DL < 6250B                  755\n",
       "DL TP < 50 Kbps (%)                            754\n",
       "50 Kbps < DL TP < 250 Kbps (%)                 754\n",
       "250 Kbps < DL TP < 1 Mbps (%)                  754\n",
       "DL TP > 1 Mbps (%)                             754\n",
       "Handset Type                                   572\n",
       "IMEI                                           572\n",
       "Handset Manufacturer                           572\n",
       "IMSI                                           570\n",
       "Total UL (Bytes)                                 1\n",
       "Activity Duration UL (ms)                        1\n",
       "Dur. (ms).1                                      1\n",
       "End ms                                           1\n",
       "Start ms                                         1\n",
       "Start                                            1\n",
       "End                                              1\n",
       "Total DL (Bytes)                                 1\n",
       "Dur. (ms)                                        1\n",
       "Activity Duration DL (ms)                        1\n",
       "Avg Bearer TP UL (kbps)                          1\n",
       "Avg Bearer TP DL (kbps)                          1\n",
       "Netflix DL (Bytes)                               0\n",
       "Other UL (Bytes)                                 0\n",
       "Other DL (Bytes)                                 0\n",
       "Gaming UL (Bytes)                                0\n",
       "Gaming DL (Bytes)                                0\n",
       "Netflix UL (Bytes)                               0\n",
       "Youtube UL (Bytes)                               0\n",
       "Youtube DL (Bytes)                               0\n",
       "Email UL (Bytes)                                 0\n",
       "Google UL (Bytes)                                0\n",
       "Google DL (Bytes)                                0\n",
       "Social Media UL (Bytes)                          0\n",
       "Social Media DL (Bytes)                          0\n",
       "Email DL (Bytes)                                 0\n",
       "dtype: int64"
      ]
     },
     "execution_count": 8,
     "metadata": {},
     "output_type": "execute_result"
    }
   ],
   "source": [
    "# Column(s) with missing values\n",
    "df.isna().sum().sort_values(ascending=False)"
   ]
  },
  {
   "cell_type": "code",
   "execution_count": 9,
   "metadata": {},
   "outputs": [
    {
     "data": {
      "text/plain": [
       "Nb of sec with 37500B < Vol UL              86.84\n",
       "Nb of sec with 6250B < Vol UL < 37500B      74.56\n",
       "Nb of sec with 125000B < Vol DL             65.02\n",
       "TCP UL Retrans. Vol (Bytes)                 64.43\n",
       "Nb of sec with 31250B < Vol DL < 125000B    62.39\n",
       "Nb of sec with 1250B < Vol UL < 6250B       61.93\n",
       "Nb of sec with 6250B < Vol DL < 31250B      58.88\n",
       "TCP DL Retrans. Vol (Bytes)                 58.76\n",
       "HTTP UL (Bytes)                             54.54\n",
       "HTTP DL (Bytes)                             54.32\n",
       "Avg RTT DL (ms)                             18.55\n",
       "Avg RTT UL (ms)                             18.54\n",
       "Last Location Name                           0.77\n",
       "MSISDN/Number                                0.71\n",
       "Bearer Id                                    0.66\n",
       "10 Kbps < UL TP < 50 Kbps (%)                0.53\n",
       "Nb of sec with Vol UL < 1250B                0.53\n",
       "UL TP > 300 Kbps (%)                         0.53\n",
       "50 Kbps < UL TP < 300 Kbps (%)               0.53\n",
       "UL TP < 10 Kbps (%)                          0.53\n",
       "250 Kbps < DL TP < 1 Mbps (%)                0.50\n",
       "50 Kbps < DL TP < 250 Kbps (%)               0.50\n",
       "DL TP < 50 Kbps (%)                          0.50\n",
       "Nb of sec with Vol DL < 6250B                0.50\n",
       "DL TP > 1 Mbps (%)                           0.50\n",
       "Handset Type                                 0.38\n",
       "Handset Manufacturer                         0.38\n",
       "IMEI                                         0.38\n",
       "IMSI                                         0.38\n",
       "Gaming UL (Bytes)                            0.00\n",
       "Email UL (Bytes)                             0.00\n",
       "Total UL (Bytes)                             0.00\n",
       "Other UL (Bytes)                             0.00\n",
       "Other DL (Bytes)                             0.00\n",
       "Google UL (Bytes)                            0.00\n",
       "Gaming DL (Bytes)                            0.00\n",
       "Youtube DL (Bytes)                           0.00\n",
       "Youtube UL (Bytes)                           0.00\n",
       "Netflix DL (Bytes)                           0.00\n",
       "Netflix UL (Bytes)                           0.00\n",
       "Email DL (Bytes)                             0.00\n",
       "Activity Duration UL (ms)                    0.00\n",
       "Google DL (Bytes)                            0.00\n",
       "Social Media UL (Bytes)                      0.00\n",
       "Social Media DL (Bytes)                      0.00\n",
       "Dur. (ms).1                                  0.00\n",
       "Start                                        0.00\n",
       "Activity Duration DL (ms)                    0.00\n",
       "Avg Bearer TP UL (kbps)                      0.00\n",
       "Avg Bearer TP DL (kbps)                      0.00\n",
       "Dur. (ms)                                    0.00\n",
       "End ms                                       0.00\n",
       "End                                          0.00\n",
       "Start ms                                     0.00\n",
       "Total DL (Bytes)                             0.00\n",
       "dtype: float64"
      ]
     },
     "execution_count": 9,
     "metadata": {},
     "output_type": "execute_result"
    }
   ],
   "source": [
    "# % of nulls in each column\n",
    "missing_precentage =  cleaner.missing_precentage_of_each_col(df)\n",
    "missing_precentage"
   ]
  },
  {
   "cell_type": "markdown",
   "metadata": {},
   "source": [
    "Some of the Columns has alot of missing values. Therefore, next we will drop those with more than 50 % of missing values"
   ]
  },
  {
   "cell_type": "code",
   "execution_count": 11,
   "metadata": {},
   "outputs": [
    {
     "name": "stdout",
     "output_type": "stream",
     "text": [
      "Now the reduced column number is 45 where the previous number of column is 55\n"
     ]
    }
   ],
   "source": [
    "# drop columns with more than 50% of missing values\n",
    "#TODO: factor out this to clean_dataframe module\n",
    "\n",
    "top_missing_cols = missing_precentage[:10]\n",
    "indexes = top_missing_cols.keys() \n",
    "df_clean = df.drop(['Nb of sec with 37500B < Vol UL',\n",
    "       'Nb of sec with 6250B < Vol UL < 37500B',\n",
    "       'Nb of sec with 125000B < Vol DL', 'TCP UL Retrans. Vol (Bytes)',\n",
    "       'Nb of sec with 31250B < Vol DL < 125000B',\n",
    "       'Nb of sec with 1250B < Vol UL < 6250B',\n",
    "       'Nb of sec with 6250B < Vol DL < 31250B', 'TCP DL Retrans. Vol (Bytes)',\n",
    "       'HTTP UL (Bytes)', 'HTTP DL (Bytes)'], axis=1)\n",
    "#the reduced colum\n",
    "print('Now the reduced column number is', df_clean.shape[1], 'where the previous number of column is',df.shape[1])\n"
   ]
  },
  {
   "cell_type": "markdown",
   "metadata": {},
   "source": [
    "### Handling Categorical missing values"
   ]
  },
  {
   "cell_type": "code",
   "execution_count": 12,
   "metadata": {},
   "outputs": [
    {
     "name": "stdout",
     "output_type": "stream",
     "text": [
      "\n",
      "  missing count  \n",
      "\n",
      "Last Location Name - 1153\n",
      "Handset Manufacturer - 572\n",
      "Handset Type - 572\n"
     ]
    }
   ],
   "source": [
    "categorical_features = ['Last Location Name', 'Handset Manufacturer', 'Handset Type']\n",
    "print('\\n  missing count  \\n')\n",
    "for feature in categorical_features:\n",
    "    print(f'{feature} - {df[feature].isnull().sum()}')"
   ]
  },
  {
   "cell_type": "code",
   "execution_count": 13,
   "metadata": {},
   "outputs": [
    {
     "name": "stdout",
     "output_type": "stream",
     "text": [
      "Last Location mode Value: D41377B\n",
      "Handset Manufacturer mode value: Apple\n",
      "Handset type mode value: Huawei B528S-23A\n"
     ]
    }
   ],
   "source": [
    "location_mode = df['Last Location Name'].mode()\n",
    "manufacturer_mode = df['Handset Manufacturer'].mode()\n",
    "handset_type_mode = df['Handset Type'].mode()\n",
    "print(f'Last Location mode Value: {location_mode.values[0]}')\n",
    "print(f'Handset Manufacturer mode value: {manufacturer_mode.values[0]}')\n",
    "print(f'Handset type mode value: {handset_type_mode.values[0]}')"
   ]
  },
  {
   "cell_type": "markdown",
   "metadata": {},
   "source": [
    "#### Filling all categorical feature with its mode"
   ]
  },
  {
   "cell_type": "code",
   "execution_count": 18,
   "metadata": {},
   "outputs": [],
   "source": [
    "# fill all categorical feature with its mode\n",
    "filling_vals = {'Last Location Name': location_mode.values[0], 'Handset Manufacturer': manufacturer_mode.values[0],'Handset Type': handset_type_mode.values[0]}\n",
    "df.fillna(value=filling_vals, inplace=True)"
   ]
  },
  {
   "cell_type": "markdown",
   "metadata": {},
   "source": [
    "### Handling Numerical missing values\n",
    "\n",
    "> In order to fill the missing numerical feature values we need to check the skewness of the distribution\n",
    "if it is skewed we will fill the missing with median / mode\n",
    "if it is normally distributed we will fill the missing with mean / average values"
   ]
  },
  {
   "cell_type": "code",
   "execution_count": 19,
   "metadata": {},
   "outputs": [
    {
     "name": "stdout",
     "output_type": "stream",
     "text": [
      "Bearer Id                                     0.026666\n",
      "Start ms                                      0.000968\n",
      "End ms                                       -0.001163\n",
      "Dur. (ms)                                     3.952609\n",
      "IMSI                                         41.045956\n",
      "MSISDN/Number                               332.155856\n",
      "IMEI                                          1.071470\n",
      "Avg RTT DL (ms)                              62.907828\n",
      "Avg RTT UL (ms)                              28.457415\n",
      "Avg Bearer TP DL (kbps)                       2.589437\n",
      "Avg Bearer TP UL (kbps)                       4.503413\n",
      "TCP DL Retrans. Vol (Bytes)                  15.951809\n",
      "TCP UL Retrans. Vol (Bytes)                  84.113393\n",
      "DL TP < 50 Kbps (%)                          -2.297803\n",
      "50 Kbps < DL TP < 250 Kbps (%)                3.271453\n",
      "250 Kbps < DL TP < 1 Mbps (%)                 4.566158\n",
      "DL TP > 1 Mbps (%)                            5.370351\n",
      "UL TP < 10 Kbps (%)                          -8.985016\n",
      "10 Kbps < UL TP < 50 Kbps (%)                10.943888\n",
      "50 Kbps < UL TP < 300 Kbps (%)               21.878495\n",
      "UL TP > 300 Kbps (%)                         36.174053\n",
      "HTTP DL (Bytes)                              38.944710\n",
      "HTTP UL (Bytes)                              32.474970\n",
      "Activity Duration DL (ms)                     5.872256\n",
      "Activity Duration UL (ms)                     7.382557\n",
      "Dur. (ms).1                                   3.952609\n",
      "Nb of sec with 125000B < Vol DL               6.592502\n",
      "Nb of sec with 1250B < Vol UL < 6250B        22.035745\n",
      "Nb of sec with 31250B < Vol DL < 125000B      6.610541\n",
      "Nb of sec with 37500B < Vol UL               21.560028\n",
      "Nb of sec with 6250B < Vol DL < 31250B        6.896050\n",
      "Nb of sec with 6250B < Vol UL < 37500B       19.642752\n",
      "Nb of sec with Vol DL < 6250B                 9.042166\n",
      "Nb of sec with Vol UL < 1250B                 7.495176\n",
      "Social Media DL (Bytes)                      -0.002136\n",
      "Social Media UL (Bytes)                      -0.000359\n",
      "Google DL (Bytes)                            -0.008092\n",
      "Google UL (Bytes)                             0.002216\n",
      "Email DL (Bytes)                             -0.002463\n",
      "Email UL (Bytes)                              0.007358\n",
      "Youtube DL (Bytes)                            0.000231\n",
      "Youtube UL (Bytes)                           -0.001142\n",
      "Netflix DL (Bytes)                           -0.002442\n",
      "Netflix UL (Bytes)                           -0.000113\n",
      "Gaming DL (Bytes)                            -0.003460\n",
      "Gaming UL (Bytes)                            -0.001840\n",
      "Other DL (Bytes)                              0.001400\n",
      "Other UL (Bytes)                              0.001392\n",
      "Total UL (Bytes)                             -0.002456\n",
      "Total DL (Bytes)                             -0.003153\n",
      "dtype: float64\n"
     ]
    },
    {
     "name": "stderr",
     "output_type": "stream",
     "text": [
      "c:\\Users\\HP\\Anaconda3\\lib\\site-packages\\ipykernel_launcher.py:2: FutureWarning: Dropping of nuisance columns in DataFrame reductions (with 'numeric_only=None') is deprecated; in a future version this will raise TypeError.  Select only valid columns before calling the reduction.\n",
      "  \n"
     ]
    }
   ],
   "source": [
    "#check the skewness\n",
    "print(df.skew(axis=0))"
   ]
  },
  {
   "cell_type": "markdown",
   "metadata": {},
   "source": [
    "#### Fill missing value of highly skewed features"
   ]
  },
  {
   "cell_type": "code",
   "execution_count": 20,
   "metadata": {},
   "outputs": [
    {
     "name": "stdout",
     "output_type": "stream",
     "text": [
      "Positively skewed features: \n",
      " ['Dur. (ms)', 'IMSI', 'MSISDN/Number', 'IMEI', 'Avg RTT DL (ms)', 'Avg RTT UL (ms)', 'Avg Bearer TP DL (kbps)', 'Avg Bearer TP UL (kbps)', 'TCP DL Retrans. Vol (Bytes)', 'TCP UL Retrans. Vol (Bytes)', '50 Kbps < DL TP < 250 Kbps (%)', '250 Kbps < DL TP < 1 Mbps (%)', 'DL TP > 1 Mbps (%)', '10 Kbps < UL TP < 50 Kbps (%)', '50 Kbps < UL TP < 300 Kbps (%)', 'UL TP > 300 Kbps (%)', 'HTTP DL (Bytes)', 'HTTP UL (Bytes)', 'Activity Duration DL (ms)', 'Activity Duration UL (ms)', 'Dur. (ms).1', 'Nb of sec with 125000B < Vol DL', 'Nb of sec with 1250B < Vol UL < 6250B', 'Nb of sec with 31250B < Vol DL < 125000B', 'Nb of sec with 37500B < Vol UL', 'Nb of sec with 6250B < Vol DL < 31250B', 'Nb of sec with 6250B < Vol UL < 37500B', 'Nb of sec with Vol DL < 6250B', 'Nb of sec with Vol UL < 1250B'] \n",
      " count: 29\n",
      " \n",
      "\n",
      "Negatively skewed of features: \n",
      " ['Dur. (ms)', 'IMSI', 'MSISDN/Number', 'IMEI', 'Avg RTT DL (ms)', 'Avg RTT UL (ms)', 'Avg Bearer TP DL (kbps)', 'Avg Bearer TP UL (kbps)', 'TCP DL Retrans. Vol (Bytes)', 'TCP UL Retrans. Vol (Bytes)', '50 Kbps < DL TP < 250 Kbps (%)', '250 Kbps < DL TP < 1 Mbps (%)', 'DL TP > 1 Mbps (%)', '10 Kbps < UL TP < 50 Kbps (%)', '50 Kbps < UL TP < 300 Kbps (%)', 'UL TP > 300 Kbps (%)', 'HTTP DL (Bytes)', 'HTTP UL (Bytes)', 'Activity Duration DL (ms)', 'Activity Duration UL (ms)', 'Dur. (ms).1', 'Nb of sec with 125000B < Vol DL', 'Nb of sec with 1250B < Vol UL < 6250B', 'Nb of sec with 31250B < Vol DL < 125000B', 'Nb of sec with 37500B < Vol UL', 'Nb of sec with 6250B < Vol DL < 31250B', 'Nb of sec with 6250B < Vol UL < 37500B', 'Nb of sec with Vol DL < 6250B', 'Nb of sec with Vol UL < 1250B'] \n",
      " count:2\n",
      " \n",
      "\n",
      "Normally distributed features: \n",
      " ['Bearer Id', 'Start ms', 'End ms', 'Social Media DL (Bytes)', 'Social Media UL (Bytes)', 'Google DL (Bytes)', 'Google UL (Bytes)', 'Email DL (Bytes)', 'Email UL (Bytes)', 'Youtube DL (Bytes)', 'Youtube UL (Bytes)', 'Netflix DL (Bytes)', 'Netflix UL (Bytes)', 'Gaming DL (Bytes)', 'Gaming UL (Bytes)', 'Other DL (Bytes)', 'Other UL (Bytes)', 'Total UL (Bytes)', 'Total DL (Bytes)']\n",
      " count: 19\n"
     ]
    },
    {
     "name": "stderr",
     "output_type": "stream",
     "text": [
      "c:\\Users\\HP\\Anaconda3\\lib\\site-packages\\ipykernel_launcher.py:1: FutureWarning: Dropping of nuisance columns in DataFrame reductions (with 'numeric_only=None') is deprecated; in a future version this will raise TypeError.  Select only valid columns before calling the reduction.\n",
      "  \"\"\"Entry point for launching an IPython kernel.\n"
     ]
    }
   ],
   "source": [
    "skew = df.skew(axis=0)\n",
    "positively_skewed = skew[skew > 0.5 ].keys()\n",
    "negatively_skewed = skew[skew < -0.5].keys()\n",
    "normally_distributed = skew.between(-0.5, 0.5, inclusive='both')\n",
    "\n",
    "print(f\"Positively skewed features: \\n {list(positively_skewed)} \\n count: {len(positively_skewed)}\\n \\n\")\n",
    "print(f'Negatively skewed of features: \\n {list(positively_skewed)} \\n count:{len(negatively_skewed)}\\n \\n')\n",
    "print(f'Normally distributed features: \\n {list(normally_distributed[normally_distributed == True].keys())}\\n count: {len(list(normally_distributed[normally_distributed == True].keys()))}')\n"
   ]
  },
  {
   "cell_type": "code",
   "execution_count": 21,
   "metadata": {},
   "outputs": [
    {
     "data": {
      "text/plain": [
       "DL TP < 50 Kbps (%)    754\n",
       "UL TP < 10 Kbps (%)    792\n",
       "dtype: int64"
      ]
     },
     "execution_count": 21,
     "metadata": {},
     "output_type": "execute_result"
    }
   ],
   "source": [
    "df[list(negatively_skewed)].isna().sum()"
   ]
  },
  {
   "cell_type": "code",
   "execution_count": 28,
   "metadata": {},
   "outputs": [],
   "source": [
    "#fill negativily skewed data with median\n",
    "df = cleaner.fill_by_median(df, list(negatively_skewed))"
   ]
  },
  {
   "cell_type": "code",
   "execution_count": 26,
   "metadata": {},
   "outputs": [
    {
     "data": {
      "text/plain": [
       "DL TP < 50 Kbps (%)    0\n",
       "UL TP < 10 Kbps (%)    0\n",
       "dtype: int64"
      ]
     },
     "execution_count": 26,
     "metadata": {},
     "output_type": "execute_result"
    }
   ],
   "source": [
    "# see if there was an error filling with median\n",
    "df[list(negatively_skewed)].isna().sum()"
   ]
  },
  {
   "cell_type": "code",
   "execution_count": 27,
   "metadata": {},
   "outputs": [
    {
     "data": {
      "text/plain": [
       "Dur. (ms)                                        1\n",
       "IMSI                                           570\n",
       "MSISDN/Number                                 1066\n",
       "IMEI                                           572\n",
       "Avg RTT DL (ms)                              27829\n",
       "Avg RTT UL (ms)                              27812\n",
       "Avg Bearer TP DL (kbps)                          1\n",
       "Avg Bearer TP UL (kbps)                          1\n",
       "TCP DL Retrans. Vol (Bytes)                  88146\n",
       "TCP UL Retrans. Vol (Bytes)                  96649\n",
       "50 Kbps < DL TP < 250 Kbps (%)                 754\n",
       "250 Kbps < DL TP < 1 Mbps (%)                  754\n",
       "DL TP > 1 Mbps (%)                             754\n",
       "10 Kbps < UL TP < 50 Kbps (%)                  792\n",
       "50 Kbps < UL TP < 300 Kbps (%)                 792\n",
       "UL TP > 300 Kbps (%)                           792\n",
       "HTTP DL (Bytes)                              81474\n",
       "HTTP UL (Bytes)                              81810\n",
       "Activity Duration DL (ms)                        1\n",
       "Activity Duration UL (ms)                        1\n",
       "Dur. (ms).1                                      1\n",
       "Nb of sec with 125000B < Vol DL              97538\n",
       "Nb of sec with 1250B < Vol UL < 6250B        92894\n",
       "Nb of sec with 31250B < Vol DL < 125000B     93586\n",
       "Nb of sec with 37500B < Vol UL              130254\n",
       "Nb of sec with 6250B < Vol DL < 31250B       88317\n",
       "Nb of sec with 6250B < Vol UL < 37500B      111843\n",
       "Nb of sec with Vol DL < 6250B                  755\n",
       "Nb of sec with Vol UL < 1250B                  793\n",
       "dtype: int64"
      ]
     },
     "execution_count": 27,
     "metadata": {},
     "output_type": "execute_result"
    }
   ],
   "source": [
    "df[list(positively_skewed)].isna().sum()"
   ]
  },
  {
   "cell_type": "code",
   "execution_count": 29,
   "metadata": {},
   "outputs": [],
   "source": [
    "# fill positively skewed data with median\n",
    "df = cleaner.fill_by_median(df, list(positively_skewed))"
   ]
  },
  {
   "cell_type": "code",
   "execution_count": 30,
   "metadata": {},
   "outputs": [
    {
     "data": {
      "text/plain": [
       "Dur. (ms)                                   0\n",
       "IMSI                                        0\n",
       "MSISDN/Number                               0\n",
       "IMEI                                        0\n",
       "Avg RTT DL (ms)                             0\n",
       "Avg RTT UL (ms)                             0\n",
       "Avg Bearer TP DL (kbps)                     0\n",
       "Avg Bearer TP UL (kbps)                     0\n",
       "TCP DL Retrans. Vol (Bytes)                 0\n",
       "TCP UL Retrans. Vol (Bytes)                 0\n",
       "50 Kbps < DL TP < 250 Kbps (%)              0\n",
       "250 Kbps < DL TP < 1 Mbps (%)               0\n",
       "DL TP > 1 Mbps (%)                          0\n",
       "10 Kbps < UL TP < 50 Kbps (%)               0\n",
       "50 Kbps < UL TP < 300 Kbps (%)              0\n",
       "UL TP > 300 Kbps (%)                        0\n",
       "HTTP DL (Bytes)                             0\n",
       "HTTP UL (Bytes)                             0\n",
       "Activity Duration DL (ms)                   0\n",
       "Activity Duration UL (ms)                   0\n",
       "Dur. (ms).1                                 0\n",
       "Nb of sec with 125000B < Vol DL             0\n",
       "Nb of sec with 1250B < Vol UL < 6250B       0\n",
       "Nb of sec with 31250B < Vol DL < 125000B    0\n",
       "Nb of sec with 37500B < Vol UL              0\n",
       "Nb of sec with 6250B < Vol DL < 31250B      0\n",
       "Nb of sec with 6250B < Vol UL < 37500B      0\n",
       "Nb of sec with Vol DL < 6250B               0\n",
       "Nb of sec with Vol UL < 1250B               0\n",
       "dtype: int64"
      ]
     },
     "execution_count": 30,
     "metadata": {},
     "output_type": "execute_result"
    }
   ],
   "source": [
    "# see if there was an error filling with median\n",
    "df[list(positively_skewed)].isna().sum()"
   ]
  },
  {
   "cell_type": "code",
   "execution_count": 31,
   "metadata": {},
   "outputs": [
    {
     "data": {
      "text/plain": [
       "Bearer Id                  991\n",
       "Start ms                     1\n",
       "End ms                       1\n",
       "Social Media DL (Bytes)      0\n",
       "Social Media UL (Bytes)      0\n",
       "Google DL (Bytes)            0\n",
       "Google UL (Bytes)            0\n",
       "Email DL (Bytes)             0\n",
       "Email UL (Bytes)             0\n",
       "Youtube DL (Bytes)           0\n",
       "Youtube UL (Bytes)           0\n",
       "Netflix DL (Bytes)           0\n",
       "Netflix UL (Bytes)           0\n",
       "Gaming DL (Bytes)            0\n",
       "Gaming UL (Bytes)            0\n",
       "Other DL (Bytes)             0\n",
       "Other UL (Bytes)             0\n",
       "Total UL (Bytes)             1\n",
       "Total DL (Bytes)             1\n",
       "dtype: int64"
      ]
     },
     "execution_count": 31,
     "metadata": {},
     "output_type": "execute_result"
    }
   ],
   "source": [
    "#normally dist\n",
    "df[list(normally_distributed[normally_distributed == True].keys())].isna().sum()"
   ]
  },
  {
   "cell_type": "code",
   "execution_count": 32,
   "metadata": {},
   "outputs": [],
   "source": [
    "# fill normally distributed missing features with mean\n",
    "df = cleaner.fill_by_mean(df, list(normally_distributed[normally_distributed == True].keys()))"
   ]
  },
  {
   "cell_type": "code",
   "execution_count": 38,
   "metadata": {},
   "outputs": [
    {
     "name": "stdout",
     "output_type": "stream",
     "text": [
      "The telecom dataset contains 0.03 % missing values.\n"
     ]
    }
   ],
   "source": [
    "# check percentage missing\n",
    "cleaner.precent_missing(df)"
   ]
  },
  {
   "cell_type": "markdown",
   "metadata": {},
   "source": [
    "Final clean up"
   ]
  },
  {
   "cell_type": "code",
   "execution_count": 41,
   "metadata": {},
   "outputs": [],
   "source": [
    "df.drop(df.tail(1).index, inplace=True)"
   ]
  },
  {
   "cell_type": "code",
   "execution_count": 42,
   "metadata": {},
   "outputs": [
    {
     "name": "stdout",
     "output_type": "stream",
     "text": [
      "The telecom dataset contains 0.03 % missing values.\n"
     ]
    }
   ],
   "source": [
    "# check percentage missing\n",
    "cleaner.precent_missing(df)"
   ]
  },
  {
   "cell_type": "code",
   "execution_count": 35,
   "metadata": {},
   "outputs": [
    {
     "name": "stdout",
     "output_type": "stream",
     "text": [
      "<class 'pandas.core.frame.DataFrame'>\n",
      "RangeIndex: 150001 entries, 0 to 150000\n",
      "Data columns (total 55 columns):\n",
      " #   Column                                    Non-Null Count   Dtype         \n",
      "---  ------                                    --------------   -----         \n",
      " 0   Bearer Id                                 150001 non-null  float64       \n",
      " 1   Start                                     150000 non-null  datetime64[ns]\n",
      " 2   Start ms                                  150001 non-null  float64       \n",
      " 3   End                                       150000 non-null  datetime64[ns]\n",
      " 4   End ms                                    150001 non-null  float64       \n",
      " 5   Dur. (ms)                                 150001 non-null  float64       \n",
      " 6   IMSI                                      150001 non-null  float64       \n",
      " 7   MSISDN/Number                             150001 non-null  float64       \n",
      " 8   IMEI                                      150001 non-null  float64       \n",
      " 9   Last Location Name                        148848 non-null  object        \n",
      " 10  Avg RTT DL (ms)                           150001 non-null  float64       \n",
      " 11  Avg RTT UL (ms)                           150001 non-null  float64       \n",
      " 12  Avg Bearer TP DL (kbps)                   150001 non-null  float64       \n",
      " 13  Avg Bearer TP UL (kbps)                   150001 non-null  float64       \n",
      " 14  TCP DL Retrans. Vol (Bytes)               150001 non-null  float64       \n",
      " 15  TCP UL Retrans. Vol (Bytes)               150001 non-null  float64       \n",
      " 16  DL TP < 50 Kbps (%)                       150001 non-null  float64       \n",
      " 17  50 Kbps < DL TP < 250 Kbps (%)            150001 non-null  float64       \n",
      " 18  250 Kbps < DL TP < 1 Mbps (%)             150001 non-null  float64       \n",
      " 19  DL TP > 1 Mbps (%)                        150001 non-null  float64       \n",
      " 20  UL TP < 10 Kbps (%)                       150001 non-null  float64       \n",
      " 21  10 Kbps < UL TP < 50 Kbps (%)             150001 non-null  float64       \n",
      " 22  50 Kbps < UL TP < 300 Kbps (%)            150001 non-null  float64       \n",
      " 23  UL TP > 300 Kbps (%)                      150001 non-null  float64       \n",
      " 24  HTTP DL (Bytes)                           150001 non-null  float64       \n",
      " 25  HTTP UL (Bytes)                           150001 non-null  float64       \n",
      " 26  Activity Duration DL (ms)                 150001 non-null  float64       \n",
      " 27  Activity Duration UL (ms)                 150001 non-null  float64       \n",
      " 28  Dur. (ms).1                               150001 non-null  float64       \n",
      " 29  Handset Manufacturer                      149429 non-null  object        \n",
      " 30  Handset Type                              149429 non-null  object        \n",
      " 31  Nb of sec with 125000B < Vol DL           150001 non-null  float64       \n",
      " 32  Nb of sec with 1250B < Vol UL < 6250B     150001 non-null  float64       \n",
      " 33  Nb of sec with 31250B < Vol DL < 125000B  150001 non-null  float64       \n",
      " 34  Nb of sec with 37500B < Vol UL            150001 non-null  float64       \n",
      " 35  Nb of sec with 6250B < Vol DL < 31250B    150001 non-null  float64       \n",
      " 36  Nb of sec with 6250B < Vol UL < 37500B    150001 non-null  float64       \n",
      " 37  Nb of sec with Vol DL < 6250B             150001 non-null  float64       \n",
      " 38  Nb of sec with Vol UL < 1250B             150001 non-null  float64       \n",
      " 39  Social Media DL (Bytes)                   150001 non-null  float64       \n",
      " 40  Social Media UL (Bytes)                   150001 non-null  float64       \n",
      " 41  Google DL (Bytes)                         150001 non-null  float64       \n",
      " 42  Google UL (Bytes)                         150001 non-null  float64       \n",
      " 43  Email DL (Bytes)                          150001 non-null  float64       \n",
      " 44  Email UL (Bytes)                          150001 non-null  float64       \n",
      " 45  Youtube DL (Bytes)                        150001 non-null  float64       \n",
      " 46  Youtube UL (Bytes)                        150001 non-null  float64       \n",
      " 47  Netflix DL (Bytes)                        150001 non-null  float64       \n",
      " 48  Netflix UL (Bytes)                        150001 non-null  float64       \n",
      " 49  Gaming DL (Bytes)                         150001 non-null  float64       \n",
      " 50  Gaming UL (Bytes)                         150001 non-null  float64       \n",
      " 51  Other DL (Bytes)                          150001 non-null  float64       \n",
      " 52  Other UL (Bytes)                          150001 non-null  float64       \n",
      " 53  Total UL (Bytes)                          150001 non-null  float64       \n",
      " 54  Total DL (Bytes)                          150001 non-null  float64       \n",
      "dtypes: datetime64[ns](2), float64(50), object(3)\n",
      "memory usage: 62.9+ MB\n"
     ]
    }
   ],
   "source": [
    "df.info()"
   ]
  },
  {
   "cell_type": "code",
   "execution_count": 43,
   "metadata": {},
   "outputs": [],
   "source": [
    "#save the clean data\n",
    "df.to_csv('../data/week1_challenge_clean_data.csv', index=False)"
   ]
  }
 ],
 "metadata": {
  "kernelspec": {
   "display_name": "Python 3.7.4 ('base')",
   "language": "python",
   "name": "python3"
  },
  "language_info": {
   "codemirror_mode": {
    "name": "ipython",
    "version": 3
   },
   "file_extension": ".py",
   "mimetype": "text/x-python",
   "name": "python",
   "nbconvert_exporter": "python",
   "pygments_lexer": "ipython3",
   "version": "3.7.4"
  },
  "orig_nbformat": 4,
  "vscode": {
   "interpreter": {
    "hash": "b1e6b76b6e736d29445d5c5f779c1dafb0f59893c5766b7198bc0a87a8e7acf4"
   }
  }
 },
 "nbformat": 4,
 "nbformat_minor": 2
}
