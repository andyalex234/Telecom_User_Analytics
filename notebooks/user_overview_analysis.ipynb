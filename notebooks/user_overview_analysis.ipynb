{
 "cells": [
  {
   "cell_type": "code",
   "execution_count": 2,
   "metadata": {},
   "outputs": [
    {
     "name": "stderr",
     "output_type": "stream",
     "text": [
      "c:\\Users\\HP\\Anaconda3\\lib\\site-packages\\statsmodels\\tools\\_testing.py:19: FutureWarning: pandas.util.testing is deprecated. Use the functions in the public API at pandas.testing instead.\n",
      "  import pandas.util.testing as tm\n"
     ]
    }
   ],
   "source": [
    "# imports\n",
    "import pandas as pd\n",
    "import seaborn as sns\n",
    "import matplotlib.pyplot as plt\n",
    "import numpy as np\n",
    "import sys\n",
    "import os\n",
    "import warnings\n",
    "warnings.filterwarnings(\"ignore\")"
   ]
  },
  {
   "cell_type": "code",
   "execution_count": 1,
   "metadata": {},
   "outputs": [],
   "source": [
    "\n",
    "sys.path.append('.')\n",
    "sys.path.append('..')\n",
    "sys.path.append('../scripts')\n",
    "\n",
    "from clean_dataframe import Clean_DataFrame"
   ]
  },
  {
   "cell_type": "code",
   "execution_count": 3,
   "metadata": {},
   "outputs": [
    {
     "data": {
      "text/html": [
       "<div>\n",
       "<style scoped>\n",
       "    .dataframe tbody tr th:only-of-type {\n",
       "        vertical-align: middle;\n",
       "    }\n",
       "\n",
       "    .dataframe tbody tr th {\n",
       "        vertical-align: top;\n",
       "    }\n",
       "\n",
       "    .dataframe thead th {\n",
       "        text-align: right;\n",
       "    }\n",
       "</style>\n",
       "<table border=\"1\" class=\"dataframe\">\n",
       "  <thead>\n",
       "    <tr style=\"text-align: right;\">\n",
       "      <th></th>\n",
       "      <th>Bearer Id</th>\n",
       "      <th>Start</th>\n",
       "      <th>Start ms</th>\n",
       "      <th>End</th>\n",
       "      <th>End ms</th>\n",
       "      <th>Dur. (ms)</th>\n",
       "      <th>IMSI</th>\n",
       "      <th>MSISDN/Number</th>\n",
       "      <th>IMEI</th>\n",
       "      <th>Last Location Name</th>\n",
       "      <th>...</th>\n",
       "      <th>Youtube DL (Bytes)</th>\n",
       "      <th>Youtube UL (Bytes)</th>\n",
       "      <th>Netflix DL (Bytes)</th>\n",
       "      <th>Netflix UL (Bytes)</th>\n",
       "      <th>Gaming DL (Bytes)</th>\n",
       "      <th>Gaming UL (Bytes)</th>\n",
       "      <th>Other DL (Bytes)</th>\n",
       "      <th>Other UL (Bytes)</th>\n",
       "      <th>Total UL (Bytes)</th>\n",
       "      <th>Total DL (Bytes)</th>\n",
       "    </tr>\n",
       "  </thead>\n",
       "  <tbody>\n",
       "    <tr>\n",
       "      <th>0</th>\n",
       "      <td>1.311448e+19</td>\n",
       "      <td>2019-04-04 12:01:18</td>\n",
       "      <td>770.0</td>\n",
       "      <td>2019-04-25 14:35:31</td>\n",
       "      <td>662.0</td>\n",
       "      <td>1823652.0</td>\n",
       "      <td>2.082014e+14</td>\n",
       "      <td>3.366496e+10</td>\n",
       "      <td>3.552121e+13</td>\n",
       "      <td>9164566995485190</td>\n",
       "      <td>...</td>\n",
       "      <td>15854611.0</td>\n",
       "      <td>2501332.0</td>\n",
       "      <td>8198936.0</td>\n",
       "      <td>9656251.0</td>\n",
       "      <td>278082303.0</td>\n",
       "      <td>14344150.0</td>\n",
       "      <td>171744450.0</td>\n",
       "      <td>8814393.0</td>\n",
       "      <td>36749741.0</td>\n",
       "      <td>308879636.0</td>\n",
       "    </tr>\n",
       "    <tr>\n",
       "      <th>1</th>\n",
       "      <td>1.311448e+19</td>\n",
       "      <td>2019-04-09 13:04:04</td>\n",
       "      <td>235.0</td>\n",
       "      <td>2019-04-25 08:15:48</td>\n",
       "      <td>606.0</td>\n",
       "      <td>1365104.0</td>\n",
       "      <td>2.082019e+14</td>\n",
       "      <td>3.368185e+10</td>\n",
       "      <td>3.579401e+13</td>\n",
       "      <td>L77566A</td>\n",
       "      <td>...</td>\n",
       "      <td>20247395.0</td>\n",
       "      <td>19111729.0</td>\n",
       "      <td>18338413.0</td>\n",
       "      <td>17227132.0</td>\n",
       "      <td>608750074.0</td>\n",
       "      <td>1170709.0</td>\n",
       "      <td>526904238.0</td>\n",
       "      <td>15055145.0</td>\n",
       "      <td>53800391.0</td>\n",
       "      <td>653384965.0</td>\n",
       "    </tr>\n",
       "    <tr>\n",
       "      <th>2</th>\n",
       "      <td>1.311448e+19</td>\n",
       "      <td>2019-04-09 17:42:11</td>\n",
       "      <td>1.0</td>\n",
       "      <td>2019-04-25 11:58:13</td>\n",
       "      <td>652.0</td>\n",
       "      <td>1361762.0</td>\n",
       "      <td>2.082003e+14</td>\n",
       "      <td>3.376063e+10</td>\n",
       "      <td>3.528151e+13</td>\n",
       "      <td>D42335A</td>\n",
       "      <td>...</td>\n",
       "      <td>19725661.0</td>\n",
       "      <td>14699576.0</td>\n",
       "      <td>17587794.0</td>\n",
       "      <td>6163408.0</td>\n",
       "      <td>229584621.0</td>\n",
       "      <td>395630.0</td>\n",
       "      <td>410692588.0</td>\n",
       "      <td>4215763.0</td>\n",
       "      <td>27883638.0</td>\n",
       "      <td>279807335.0</td>\n",
       "    </tr>\n",
       "    <tr>\n",
       "      <th>3</th>\n",
       "      <td>1.311448e+19</td>\n",
       "      <td>2019-04-10 00:31:25</td>\n",
       "      <td>486.0</td>\n",
       "      <td>2019-04-25 07:36:35</td>\n",
       "      <td>171.0</td>\n",
       "      <td>1321509.0</td>\n",
       "      <td>2.082014e+14</td>\n",
       "      <td>3.375034e+10</td>\n",
       "      <td>3.535661e+13</td>\n",
       "      <td>T21824A</td>\n",
       "      <td>...</td>\n",
       "      <td>21388122.0</td>\n",
       "      <td>15146643.0</td>\n",
       "      <td>13994646.0</td>\n",
       "      <td>1097942.0</td>\n",
       "      <td>799538153.0</td>\n",
       "      <td>10849722.0</td>\n",
       "      <td>749039933.0</td>\n",
       "      <td>12797283.0</td>\n",
       "      <td>43324218.0</td>\n",
       "      <td>846028530.0</td>\n",
       "    </tr>\n",
       "    <tr>\n",
       "      <th>4</th>\n",
       "      <td>1.311448e+19</td>\n",
       "      <td>2019-04-12 20:10:23</td>\n",
       "      <td>565.0</td>\n",
       "      <td>2019-04-25 10:40:32</td>\n",
       "      <td>954.0</td>\n",
       "      <td>1089009.0</td>\n",
       "      <td>2.082014e+14</td>\n",
       "      <td>3.369980e+10</td>\n",
       "      <td>3.540701e+13</td>\n",
       "      <td>D88865A</td>\n",
       "      <td>...</td>\n",
       "      <td>15259380.0</td>\n",
       "      <td>18962873.0</td>\n",
       "      <td>17124581.0</td>\n",
       "      <td>415218.0</td>\n",
       "      <td>527707248.0</td>\n",
       "      <td>3529801.0</td>\n",
       "      <td>550709500.0</td>\n",
       "      <td>13910322.0</td>\n",
       "      <td>38542814.0</td>\n",
       "      <td>569138589.0</td>\n",
       "    </tr>\n",
       "    <tr>\n",
       "      <th>...</th>\n",
       "      <td>...</td>\n",
       "      <td>...</td>\n",
       "      <td>...</td>\n",
       "      <td>...</td>\n",
       "      <td>...</td>\n",
       "      <td>...</td>\n",
       "      <td>...</td>\n",
       "      <td>...</td>\n",
       "      <td>...</td>\n",
       "      <td>...</td>\n",
       "      <td>...</td>\n",
       "      <td>...</td>\n",
       "      <td>...</td>\n",
       "      <td>...</td>\n",
       "      <td>...</td>\n",
       "      <td>...</td>\n",
       "      <td>...</td>\n",
       "      <td>...</td>\n",
       "      <td>...</td>\n",
       "      <td>...</td>\n",
       "      <td>...</td>\n",
       "    </tr>\n",
       "    <tr>\n",
       "      <th>149993</th>\n",
       "      <td>1.311448e+19</td>\n",
       "      <td>2019-04-29 07:28:41</td>\n",
       "      <td>79.0</td>\n",
       "      <td>2019-04-30 18:22:23</td>\n",
       "      <td>512.0</td>\n",
       "      <td>125622.0</td>\n",
       "      <td>2.082014e+14</td>\n",
       "      <td>3.362611e+10</td>\n",
       "      <td>3.573531e+13</td>\n",
       "      <td>D73542B</td>\n",
       "      <td>...</td>\n",
       "      <td>18144703.0</td>\n",
       "      <td>8161828.0</td>\n",
       "      <td>20559422.0</td>\n",
       "      <td>20415237.0</td>\n",
       "      <td>569668054.0</td>\n",
       "      <td>1618788.0</td>\n",
       "      <td>168292600.0</td>\n",
       "      <td>11056036.0</td>\n",
       "      <td>43629118.0</td>\n",
       "      <td>623318363.0</td>\n",
       "    </tr>\n",
       "    <tr>\n",
       "      <th>149994</th>\n",
       "      <td>1.311448e+19</td>\n",
       "      <td>2019-04-29 07:28:41</td>\n",
       "      <td>83.0</td>\n",
       "      <td>2019-04-30 15:01:06</td>\n",
       "      <td>268.0</td>\n",
       "      <td>113545.0</td>\n",
       "      <td>2.082003e+14</td>\n",
       "      <td>3.364566e+10</td>\n",
       "      <td>3.515541e+13</td>\n",
       "      <td>T88383B</td>\n",
       "      <td>...</td>\n",
       "      <td>23043782.0</td>\n",
       "      <td>19176074.0</td>\n",
       "      <td>18762809.0</td>\n",
       "      <td>9591310.0</td>\n",
       "      <td>810666072.0</td>\n",
       "      <td>14858904.0</td>\n",
       "      <td>777865837.0</td>\n",
       "      <td>14693970.0</td>\n",
       "      <td>59377936.0</td>\n",
       "      <td>862796008.0</td>\n",
       "    </tr>\n",
       "    <tr>\n",
       "      <th>149995</th>\n",
       "      <td>1.304243e+19</td>\n",
       "      <td>2019-04-29 07:28:41</td>\n",
       "      <td>615.0</td>\n",
       "      <td>2019-04-30 00:01:49</td>\n",
       "      <td>407.0</td>\n",
       "      <td>59587.0</td>\n",
       "      <td>2.082014e+14</td>\n",
       "      <td>3.366865e+10</td>\n",
       "      <td>3.533251e+13</td>\n",
       "      <td>T85721A</td>\n",
       "      <td>...</td>\n",
       "      <td>6550499.0</td>\n",
       "      <td>18003146.0</td>\n",
       "      <td>22468983.0</td>\n",
       "      <td>7149728.0</td>\n",
       "      <td>784435351.0</td>\n",
       "      <td>12724751.0</td>\n",
       "      <td>321383162.0</td>\n",
       "      <td>14890486.0</td>\n",
       "      <td>53745392.0</td>\n",
       "      <td>819016468.0</td>\n",
       "    </tr>\n",
       "    <tr>\n",
       "      <th>149996</th>\n",
       "      <td>7.277826e+18</td>\n",
       "      <td>2019-04-29 07:28:42</td>\n",
       "      <td>451.0</td>\n",
       "      <td>2019-04-30 06:02:33</td>\n",
       "      <td>214.0</td>\n",
       "      <td>81230.0</td>\n",
       "      <td>2.082022e+14</td>\n",
       "      <td>3.365069e+10</td>\n",
       "      <td>3.548311e+13</td>\n",
       "      <td>D20434A</td>\n",
       "      <td>...</td>\n",
       "      <td>16191667.0</td>\n",
       "      <td>11763428.0</td>\n",
       "      <td>17883703.0</td>\n",
       "      <td>19678161.0</td>\n",
       "      <td>526609673.0</td>\n",
       "      <td>9197207.0</td>\n",
       "      <td>3264510.0</td>\n",
       "      <td>13487416.0</td>\n",
       "      <td>57628851.0</td>\n",
       "      <td>574175259.0</td>\n",
       "    </tr>\n",
       "    <tr>\n",
       "      <th>149997</th>\n",
       "      <td>7.349883e+18</td>\n",
       "      <td>2019-04-29 07:28:42</td>\n",
       "      <td>483.0</td>\n",
       "      <td>2019-04-30 10:41:33</td>\n",
       "      <td>187.0</td>\n",
       "      <td>97970.0</td>\n",
       "      <td>2.082019e+14</td>\n",
       "      <td>3.366345e+10</td>\n",
       "      <td>3.566051e+13</td>\n",
       "      <td>D10223C</td>\n",
       "      <td>...</td>\n",
       "      <td>13877234.0</td>\n",
       "      <td>8288284.0</td>\n",
       "      <td>19350146.0</td>\n",
       "      <td>21293148.0</td>\n",
       "      <td>626893062.0</td>\n",
       "      <td>4735033.0</td>\n",
       "      <td>712180387.0</td>\n",
       "      <td>2457758.0</td>\n",
       "      <td>39135081.0</td>\n",
       "      <td>666648844.0</td>\n",
       "    </tr>\n",
       "  </tbody>\n",
       "</table>\n",
       "<p>149998 rows × 55 columns</p>\n",
       "</div>"
      ],
      "text/plain": [
       "           Bearer Id                Start  Start ms                  End  \\\n",
       "0       1.311448e+19  2019-04-04 12:01:18     770.0  2019-04-25 14:35:31   \n",
       "1       1.311448e+19  2019-04-09 13:04:04     235.0  2019-04-25 08:15:48   \n",
       "2       1.311448e+19  2019-04-09 17:42:11       1.0  2019-04-25 11:58:13   \n",
       "3       1.311448e+19  2019-04-10 00:31:25     486.0  2019-04-25 07:36:35   \n",
       "4       1.311448e+19  2019-04-12 20:10:23     565.0  2019-04-25 10:40:32   \n",
       "...              ...                  ...       ...                  ...   \n",
       "149993  1.311448e+19  2019-04-29 07:28:41      79.0  2019-04-30 18:22:23   \n",
       "149994  1.311448e+19  2019-04-29 07:28:41      83.0  2019-04-30 15:01:06   \n",
       "149995  1.304243e+19  2019-04-29 07:28:41     615.0  2019-04-30 00:01:49   \n",
       "149996  7.277826e+18  2019-04-29 07:28:42     451.0  2019-04-30 06:02:33   \n",
       "149997  7.349883e+18  2019-04-29 07:28:42     483.0  2019-04-30 10:41:33   \n",
       "\n",
       "        End ms  Dur. (ms)          IMSI  MSISDN/Number          IMEI  \\\n",
       "0        662.0  1823652.0  2.082014e+14   3.366496e+10  3.552121e+13   \n",
       "1        606.0  1365104.0  2.082019e+14   3.368185e+10  3.579401e+13   \n",
       "2        652.0  1361762.0  2.082003e+14   3.376063e+10  3.528151e+13   \n",
       "3        171.0  1321509.0  2.082014e+14   3.375034e+10  3.535661e+13   \n",
       "4        954.0  1089009.0  2.082014e+14   3.369980e+10  3.540701e+13   \n",
       "...        ...        ...           ...            ...           ...   \n",
       "149993   512.0   125622.0  2.082014e+14   3.362611e+10  3.573531e+13   \n",
       "149994   268.0   113545.0  2.082003e+14   3.364566e+10  3.515541e+13   \n",
       "149995   407.0    59587.0  2.082014e+14   3.366865e+10  3.533251e+13   \n",
       "149996   214.0    81230.0  2.082022e+14   3.365069e+10  3.548311e+13   \n",
       "149997   187.0    97970.0  2.082019e+14   3.366345e+10  3.566051e+13   \n",
       "\n",
       "       Last Location Name  ...  Youtube DL (Bytes)  Youtube UL (Bytes)  \\\n",
       "0        9164566995485190  ...          15854611.0           2501332.0   \n",
       "1                 L77566A  ...          20247395.0          19111729.0   \n",
       "2                 D42335A  ...          19725661.0          14699576.0   \n",
       "3                 T21824A  ...          21388122.0          15146643.0   \n",
       "4                 D88865A  ...          15259380.0          18962873.0   \n",
       "...                   ...  ...                 ...                 ...   \n",
       "149993            D73542B  ...          18144703.0           8161828.0   \n",
       "149994            T88383B  ...          23043782.0          19176074.0   \n",
       "149995            T85721A  ...           6550499.0          18003146.0   \n",
       "149996            D20434A  ...          16191667.0          11763428.0   \n",
       "149997            D10223C  ...          13877234.0           8288284.0   \n",
       "\n",
       "        Netflix DL (Bytes)  Netflix UL (Bytes)  Gaming DL (Bytes)  \\\n",
       "0                8198936.0           9656251.0        278082303.0   \n",
       "1               18338413.0          17227132.0        608750074.0   \n",
       "2               17587794.0           6163408.0        229584621.0   \n",
       "3               13994646.0           1097942.0        799538153.0   \n",
       "4               17124581.0            415218.0        527707248.0   \n",
       "...                    ...                 ...                ...   \n",
       "149993          20559422.0          20415237.0        569668054.0   \n",
       "149994          18762809.0           9591310.0        810666072.0   \n",
       "149995          22468983.0           7149728.0        784435351.0   \n",
       "149996          17883703.0          19678161.0        526609673.0   \n",
       "149997          19350146.0          21293148.0        626893062.0   \n",
       "\n",
       "        Gaming UL (Bytes)  Other DL (Bytes)  Other UL (Bytes)  \\\n",
       "0              14344150.0       171744450.0         8814393.0   \n",
       "1               1170709.0       526904238.0        15055145.0   \n",
       "2                395630.0       410692588.0         4215763.0   \n",
       "3              10849722.0       749039933.0        12797283.0   \n",
       "4               3529801.0       550709500.0        13910322.0   \n",
       "...                   ...               ...               ...   \n",
       "149993          1618788.0       168292600.0        11056036.0   \n",
       "149994         14858904.0       777865837.0        14693970.0   \n",
       "149995         12724751.0       321383162.0        14890486.0   \n",
       "149996          9197207.0         3264510.0        13487416.0   \n",
       "149997          4735033.0       712180387.0         2457758.0   \n",
       "\n",
       "        Total UL (Bytes)  Total DL (Bytes)  \n",
       "0             36749741.0       308879636.0  \n",
       "1             53800391.0       653384965.0  \n",
       "2             27883638.0       279807335.0  \n",
       "3             43324218.0       846028530.0  \n",
       "4             38542814.0       569138589.0  \n",
       "...                  ...               ...  \n",
       "149993        43629118.0       623318363.0  \n",
       "149994        59377936.0       862796008.0  \n",
       "149995        53745392.0       819016468.0  \n",
       "149996        57628851.0       574175259.0  \n",
       "149997        39135081.0       666648844.0  \n",
       "\n",
       "[149998 rows x 55 columns]"
      ]
     },
     "execution_count": 3,
     "metadata": {},
     "output_type": "execute_result"
    }
   ],
   "source": [
    "#read clean data\n",
    "df = pd.read_csv('../data/week1_challenge_clean_data.csv')\n",
    "df"
   ]
  },
  {
   "cell_type": "markdown",
   "metadata": {},
   "source": [
    "## User Overview Analysis\n",
    "1. Identifying the top 10 handset used by the customers"
   ]
  },
  {
   "cell_type": "code",
   "execution_count": 5,
   "metadata": {},
   "outputs": [
    {
     "data": {
      "text/plain": [
       "Huawei B528S-23A                19752\n",
       "Apple iPhone 6S (A1688)          9419\n",
       "Apple iPhone 6 (A1586)           9023\n",
       "undefined                        8987\n",
       "Apple iPhone 7 (A1778)           6326\n",
       "Apple iPhone Se (A1723)          5187\n",
       "Apple iPhone 8 (A1905)           4993\n",
       "Apple iPhone Xr (A2105)          4568\n",
       "Samsung Galaxy S8 (Sm-G950F)     4520\n",
       "Apple iPhone X (A1901)           3813\n",
       "Name: Handset Type, dtype: int64"
      ]
     },
     "execution_count": 5,
     "metadata": {},
     "output_type": "execute_result"
    }
   ],
   "source": [
    "top10handsets = df['Handset Type'].value_counts().nlargest(n=10)\n",
    "top10handsets"
   ]
  },
  {
   "cell_type": "markdown",
   "metadata": {},
   "source": [
    "Plot top 10 handset types"
   ]
  },
  {
   "cell_type": "code",
   "execution_count": 6,
   "metadata": {},
   "outputs": [
    {
     "data": {
      "text/plain": [
       "Text(0.5, 1.0, 'top 10 handset types')"
      ]
     },
     "execution_count": 6,
     "metadata": {},
     "output_type": "execute_result"
    },
    {
     "data": {
      "image/png": "[encoded data removed]",
      "text/plain": [
       "<Figure size 720x720 with 1 Axes>"
      ]
     },
     "metadata": {},
     "output_type": "display_data"
    }
   ],
   "source": [
    "# Generate plot on top 10 handsets\n",
    "\n",
    "fig = plt.figure(figsize=(10, 10))\n",
    "last_num = len(top10handsets.values)\n",
    "colors = sns.color_palette('muted')[0:last_num]\n",
    "top10handsets.plot.pie(grid=True, colors=colors, autopct='%.000f%%')\n",
    "plt.title('top 10 handset types')"
   ]
  },
  {
   "cell_type": "markdown",
   "metadata": {},
   "source": [
    "2. Identify the top 3 handset manufacturers"
   ]
  },
  {
   "cell_type": "code",
   "execution_count": 7,
   "metadata": {},
   "outputs": [
    {
     "data": {
      "text/plain": [
       "Apple      59564\n",
       "Samsung    40839\n",
       "Huawei     34422\n",
       "Name: Handset Manufacturer, dtype: int64"
      ]
     },
     "execution_count": 7,
     "metadata": {},
     "output_type": "execute_result"
    }
   ],
   "source": [
    "# get the top 3 handset manufacturers\n",
    "top3manufacturers = df['Handset Manufacturer'].value_counts().nlargest(n=3)\n",
    "top3manufacturers"
   ]
  },
  {
   "cell_type": "markdown",
   "metadata": {},
   "source": [
    "plot top 3 manufacturers"
   ]
  },
  {
   "cell_type": "code",
   "execution_count": 8,
   "metadata": {},
   "outputs": [
    {
     "data": {
      "text/plain": [
       "Text(0.5, 1.0, 'top 3 handset manufacturers')"
      ]
     },
     "execution_count": 8,
     "metadata": {},
     "output_type": "execute_result"
    },
    {
     "data": {
      "image/png": "[encoded data removed]",
      "text/plain": [
       "<Figure size 720x720 with 1 Axes>"
      ]
     },
     "metadata": {},
     "output_type": "display_data"
    }
   ],
   "source": [
    "# Generate plot on top 3 handset manufacturers\n",
    "fig = plt.figure(figsize = (10,10))\n",
    "last_num = len(top3manufacturers.values)\n",
    "colors = sns.color_palette('muted')[0:last_num]\n",
    "top3manufacturers.plot.pie(grid=True, colors=colors, autopct='%.000f%%')\n",
    "plt.title('top 3 handset manufacturers')"
   ]
  },
  {
   "cell_type": "markdown",
   "metadata": {},
   "source": [
    "3. Identify the top 5 handset per top 3 handset manufacturer"
   ]
  },
  {
   "cell_type": "code",
   "execution_count": 9,
   "metadata": {},
   "outputs": [
    {
     "name": "stdout",
     "output_type": "stream",
     "text": [
      "Top 5 apple headset types\n",
      " Handset Type           \n",
      "Apple iPhone 6S (A1688)    9419\n",
      "Apple iPhone 6 (A1586)     9023\n",
      "Apple iPhone 7 (A1778)     6326\n",
      "Apple iPhone Se (A1723)    5187\n",
      "Apple iPhone 8 (A1905)     4993\n",
      "dtype: int64\n",
      "\n",
      "Top 5 samsung headset types\n",
      " Handset Type                \n",
      "Samsung Galaxy S8 (Sm-G950F)    4520\n",
      "Samsung Galaxy A5 Sm-A520F      3724\n",
      "Samsung Galaxy J5 (Sm-J530)     3696\n",
      "Samsung Galaxy J3 (Sm-J330)     3484\n",
      "Samsung Galaxy S7 (Sm-G930X)    3199\n",
      "dtype: int64\n",
      "\n",
      "Top 5 huawei headset types\n",
      " Handset Type                  \n",
      "Huawei B528S-23A                  19752\n",
      "Huawei E5180                       2079\n",
      "Huawei P20 Lite Huawei Nova 3E     2021\n",
      "Huawei P20                         1480\n",
      "Huawei Y6 2018                      997\n",
      "dtype: int64\n"
     ]
    }
   ],
   "source": [
    "apple_manufacturer = df.loc[df['Handset Manufacturer'] == 'Apple', ['Handset Type']].value_counts().nlargest(5)\n",
    "samsung_manufacturer = df.loc[df['Handset Manufacturer'] == 'Samsung', ['Handset Type']].value_counts().nlargest(5)\n",
    "huawei_manufacturer = df.loc[df['Handset Manufacturer'] == 'Huawei', ['Handset Type']].value_counts().nlargest(5)\n",
    "\n",
    "print(\"Top 5 apple headset types\\n\", apple_manufacturer)\n",
    "print(\"\\nTop 5 samsung headset types\\n\", samsung_manufacturer)\n",
    "print(\"\\nTop 5 huawei headset types\\n\", huawei_manufacturer)"
   ]
  },
  {
   "cell_type": "markdown",
   "metadata": {},
   "source": [
    "4. Make a short interpretation and recommendation to marketing teams"
   ]
  },
  {
   "cell_type": "markdown",
   "metadata": {},
   "source": [
    "**Interpretations**\n",
    "\n",
    "- We can see that from the top 10 headsets used by the customers, Apple iPhone has wide number of users in general. Eventhough the heighest number of users seem to use Huawei B528S-23A, the over all Apple iPhone users surpass by 10,206 number of users.\n",
    "\n",
    "\n",
    "**Recommendations**\n",
    "- Therefore we need to market our telecom service to Samsung and Huawei users\n",
    "- Optimize our service for Huawei B528S-23A, since it seem to be used by a large number of Huawei users\n"
   ]
  }
 ],
 "metadata": {
  "kernelspec": {
   "display_name": "Python 3.7.4 ('base')",
   "language": "python",
   "name": "python3"
  },
  "language_info": {
   "codemirror_mode": {
    "name": "ipython",
    "version": 3
   },
   "file_extension": ".py",
   "mimetype": "text/x-python",
   "name": "python",
   "nbconvert_exporter": "python",
   "pygments_lexer": "ipython3",
   "version": "3.7.4"
  },
  "orig_nbformat": 4,
  "vscode": {
   "interpreter": {
    "hash": "b1e6b76b6e736d29445d5c5f779c1dafb0f59893c5766b7198bc0a87a8e7acf4"
   }
  }
 },
 "nbformat": 4,
 "nbformat_minor": 2
}
